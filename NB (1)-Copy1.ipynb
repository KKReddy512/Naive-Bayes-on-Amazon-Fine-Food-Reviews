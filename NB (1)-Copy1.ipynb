{
 "cells": [
  {
   "cell_type": "markdown",
   "metadata": {},
   "source": [
    "# Amazon Fine Food Reviews Analysis"
   ]
  },
  {
   "cell_type": "markdown",
   "metadata": {},
   "source": [
    "Data Source: https://www.kaggle.com/snap/amazon-fine-food-reviews\n",
    "\n",
    "EDA: https://nycdatascience.com/blog/student-works/amazon-fine-foods-visualization/\n",
    "\n",
    "The Amazon Fine Food Reviews dataset consists of reviews of fine foods from Amazon.\n",
    "\n",
    "Number of reviews: 568,454 Number of users: 256,059 Number of products: 74,258 Timespan: Oct 1999 - Oct 2012 Number of Attributes/Columns in data: 10\n",
    "\n",
    "Attribute Information:\n",
    "\n",
    "    1. Id\n",
    "    2. ProductId - unique identifier for the product\n",
    "    3. UserId - unqiue identifier for the user\n",
    "    4. ProfileName\n",
    "    5. HelpfulnessNumerator - number of users who found the review helpful\n",
    "    6. HelpfulnessDenominator - number of users who indicated whether they found the review helpful or not\n",
    "    7. Score - rating between 1 and 5\n",
    "    8. Time - timestamp for the review\n",
    "    9. Summary - brief summary of the review\n",
    "    10.Text - text of the review\n",
    "\n",
    "Objective:\n",
    "\n",
    "Given a review, determine whether the review is positive (rating of 4 or 5) or negative (rating of 1 or 2).\n",
    "\n",
    "[Q] How to determine if a review is positive or negative?\n",
    "\n",
    "[Ans] We could use Score/Rating. A rating of 4 or 5 can be cosnidered as a positive review. A rating of 1 or 2 can be considered as negative one. A review of rating 3 is considered nuetral and such reviews are ignored from our analysis. This is an approximate and proxy way of determining the polarity (positivity/negativity) of a review.\n"
   ]
  },
  {
   "cell_type": "markdown",
   "metadata": {},
   "source": [
    "# [1] Reading Data"
   ]
  },
  {
   "cell_type": "markdown",
   "metadata": {},
   "source": [
    "## [1.1] Loading the data\n",
    "\n",
    "The dataset is available in two forms\n",
    "\n",
    "    .csv file\n",
    "    SQLite Database\n",
    "\n",
    "In order to load the data, We have used the SQLITE dataset as it is easier to query the data and visualise the data efficiently.\n",
    "\n",
    "Here as we only want to get the global sentiment of the recommendations (positive or negative), we will purposefully ignore all Scores equal to 3. If the score is above 3, then the recommendation wil be set to \"positive\". Otherwise, it will be set to \"negative\"."
   ]
  },
  {
   "cell_type": "code",
   "execution_count": 36,
   "metadata": {},
   "outputs": [],
   "source": [
    "%matplotlib inline\n",
    "import warnings\n",
    "warnings.filterwarnings(\"ignore\")\n",
    "\n",
    "\n",
    "import sqlite3\n",
    "import pandas as pd\n",
    "import numpy as np\n",
    "import nltk\n",
    "import string\n",
    "import matplotlib.pyplot as plt\n",
    "import seaborn as sns\n",
    "from sklearn.feature_extraction.text import TfidfTransformer\n",
    "from sklearn.feature_extraction.text import TfidfVectorizer\n",
    "from sklearn.preprocessing import MaxAbsScaler\n",
    "from sklearn.model_selection import train_test_split\n",
    "from sklearn.cross_validation import train_test_split\n",
    "\n",
    "from sklearn.feature_extraction.text import CountVectorizer\n",
    "from sklearn.metrics import confusion_matrix\n",
    "from sklearn import metrics\n",
    "from sklearn.metrics import roc_curve, auc\n",
    "from nltk.stem.porter import PorterStemmer\n",
    "\n",
    "import re\n",
    "# Tutorial about Python regular expressions: https://pymotw.com/2/re/\n",
    "import string\n",
    "from nltk.corpus import stopwords\n",
    "from nltk.stem import PorterStemmer\n",
    "from nltk.stem.wordnet import WordNetLemmatizer\n",
    "\n",
    "from gensim.models import Word2Vec\n",
    "from gensim.models import KeyedVectors\n",
    "import pickle\n",
    "import tqdm\n",
    "#from tqdm import tqdm\n",
    "import os\n",
    "\n",
    "# NB imports\n",
    "from sklearn.naive_bayes import MultinomialNB\n",
    "from sklearn.model_selection import TimeSeriesSplit, GridSearchCV\n",
    "\n",
    "#metrics import\n",
    "from sklearn.metrics import confusion_matrix\n",
    "from sklearn.metrics import accuracy_score\n",
    "from sklearn.metrics import roc_auc_score\n",
    "from sklearn.metrics import auc\n",
    "from sklearn.metrics import roc_curve\n",
    "from sklearn.metrics import recall_score\n",
    "from sklearn.metrics import precision_score\n",
    "from sklearn.metrics import f1_score"
   ]
  },
  {
   "cell_type": "code",
   "execution_count": 2,
   "metadata": {},
   "outputs": [
    {
     "data": {
      "text/html": [
       "<div>\n",
       "<style scoped>\n",
       "    .dataframe tbody tr th:only-of-type {\n",
       "        vertical-align: middle;\n",
       "    }\n",
       "\n",
       "    .dataframe tbody tr th {\n",
       "        vertical-align: top;\n",
       "    }\n",
       "\n",
       "    .dataframe thead th {\n",
       "        text-align: right;\n",
       "    }\n",
       "</style>\n",
       "<table border=\"1\" class=\"dataframe\">\n",
       "  <thead>\n",
       "    <tr style=\"text-align: right;\">\n",
       "      <th></th>\n",
       "      <th>Id</th>\n",
       "      <th>ProductId</th>\n",
       "      <th>UserId</th>\n",
       "      <th>ProfileName</th>\n",
       "      <th>HelpfulnessNumerator</th>\n",
       "      <th>HelpfulnessDenominator</th>\n",
       "      <th>Score</th>\n",
       "      <th>Time</th>\n",
       "      <th>Summary</th>\n",
       "      <th>Text</th>\n",
       "    </tr>\n",
       "  </thead>\n",
       "  <tbody>\n",
       "    <tr>\n",
       "      <th>0</th>\n",
       "      <td>1</td>\n",
       "      <td>B001E4KFG0</td>\n",
       "      <td>A3SGXH7AUHU8GW</td>\n",
       "      <td>delmartian</td>\n",
       "      <td>1</td>\n",
       "      <td>1</td>\n",
       "      <td>5</td>\n",
       "      <td>1303862400</td>\n",
       "      <td>Good Quality Dog Food</td>\n",
       "      <td>I have bought several of the Vitality canned d...</td>\n",
       "    </tr>\n",
       "    <tr>\n",
       "      <th>1</th>\n",
       "      <td>2</td>\n",
       "      <td>B00813GRG4</td>\n",
       "      <td>A1D87F6ZCVE5NK</td>\n",
       "      <td>dll pa</td>\n",
       "      <td>0</td>\n",
       "      <td>0</td>\n",
       "      <td>1</td>\n",
       "      <td>1346976000</td>\n",
       "      <td>Not as Advertised</td>\n",
       "      <td>Product arrived labeled as Jumbo Salted Peanut...</td>\n",
       "    </tr>\n",
       "    <tr>\n",
       "      <th>2</th>\n",
       "      <td>3</td>\n",
       "      <td>B000LQOCH0</td>\n",
       "      <td>ABXLMWJIXXAIN</td>\n",
       "      <td>Natalia Corres \"Natalia Corres\"</td>\n",
       "      <td>1</td>\n",
       "      <td>1</td>\n",
       "      <td>4</td>\n",
       "      <td>1219017600</td>\n",
       "      <td>\"Delight\" says it all</td>\n",
       "      <td>This is a confection that has been around a fe...</td>\n",
       "    </tr>\n",
       "    <tr>\n",
       "      <th>3</th>\n",
       "      <td>4</td>\n",
       "      <td>B000UA0QIQ</td>\n",
       "      <td>A395BORC6FGVXV</td>\n",
       "      <td>Karl</td>\n",
       "      <td>3</td>\n",
       "      <td>3</td>\n",
       "      <td>2</td>\n",
       "      <td>1307923200</td>\n",
       "      <td>Cough Medicine</td>\n",
       "      <td>If you are looking for the secret ingredient i...</td>\n",
       "    </tr>\n",
       "    <tr>\n",
       "      <th>4</th>\n",
       "      <td>5</td>\n",
       "      <td>B006K2ZZ7K</td>\n",
       "      <td>A1UQRSCLF8GW1T</td>\n",
       "      <td>Michael D. Bigham \"M. Wassir\"</td>\n",
       "      <td>0</td>\n",
       "      <td>0</td>\n",
       "      <td>5</td>\n",
       "      <td>1350777600</td>\n",
       "      <td>Great taffy</td>\n",
       "      <td>Great taffy at a great price.  There was a wid...</td>\n",
       "    </tr>\n",
       "  </tbody>\n",
       "</table>\n",
       "</div>"
      ],
      "text/plain": [
       "   Id   ProductId          UserId                      ProfileName  \\\n",
       "0   1  B001E4KFG0  A3SGXH7AUHU8GW                       delmartian   \n",
       "1   2  B00813GRG4  A1D87F6ZCVE5NK                           dll pa   \n",
       "2   3  B000LQOCH0   ABXLMWJIXXAIN  Natalia Corres \"Natalia Corres\"   \n",
       "3   4  B000UA0QIQ  A395BORC6FGVXV                             Karl   \n",
       "4   5  B006K2ZZ7K  A1UQRSCLF8GW1T    Michael D. Bigham \"M. Wassir\"   \n",
       "\n",
       "   HelpfulnessNumerator  HelpfulnessDenominator  Score        Time  \\\n",
       "0                     1                       1      5  1303862400   \n",
       "1                     0                       0      1  1346976000   \n",
       "2                     1                       1      4  1219017600   \n",
       "3                     3                       3      2  1307923200   \n",
       "4                     0                       0      5  1350777600   \n",
       "\n",
       "                 Summary                                               Text  \n",
       "0  Good Quality Dog Food  I have bought several of the Vitality canned d...  \n",
       "1      Not as Advertised  Product arrived labeled as Jumbo Salted Peanut...  \n",
       "2  \"Delight\" says it all  This is a confection that has been around a fe...  \n",
       "3         Cough Medicine  If you are looking for the secret ingredient i...  \n",
       "4            Great taffy  Great taffy at a great price.  There was a wid...  "
      ]
     },
     "execution_count": 2,
     "metadata": {},
     "output_type": "execute_result"
    }
   ],
   "source": [
    "con = sqlite3.connect('database.sqlite')\n",
    "\n",
    "#Normal for every dataset contains a score from 1 to 5. \n",
    "#The review must classified as positive or a negative reviews. Neutral reviews such score = 3 are omitted.\n",
    "#We consider scores 1,2 as negative and 4,5 as positive.So we will consider reviews which are not equal to 3.\n",
    "\n",
    "filtered_data = pd.read_sql_query(\"SELECT * FROM Reviews WHERE Score != 3 LIMIT 150000\", con)\n",
    "filtered_data.head(5)"
   ]
  },
  {
   "cell_type": "code",
   "execution_count": 3,
   "metadata": {},
   "outputs": [
    {
     "name": "stdout",
     "output_type": "stream",
     "text": [
      "Number of data points in our data (150000, 10)\n"
     ]
    },
    {
     "data": {
      "text/html": [
       "<div>\n",
       "<style scoped>\n",
       "    .dataframe tbody tr th:only-of-type {\n",
       "        vertical-align: middle;\n",
       "    }\n",
       "\n",
       "    .dataframe tbody tr th {\n",
       "        vertical-align: top;\n",
       "    }\n",
       "\n",
       "    .dataframe thead th {\n",
       "        text-align: right;\n",
       "    }\n",
       "</style>\n",
       "<table border=\"1\" class=\"dataframe\">\n",
       "  <thead>\n",
       "    <tr style=\"text-align: right;\">\n",
       "      <th></th>\n",
       "      <th>Id</th>\n",
       "      <th>ProductId</th>\n",
       "      <th>UserId</th>\n",
       "      <th>ProfileName</th>\n",
       "      <th>HelpfulnessNumerator</th>\n",
       "      <th>HelpfulnessDenominator</th>\n",
       "      <th>Score</th>\n",
       "      <th>Time</th>\n",
       "      <th>Summary</th>\n",
       "      <th>Text</th>\n",
       "    </tr>\n",
       "  </thead>\n",
       "  <tbody>\n",
       "    <tr>\n",
       "      <th>0</th>\n",
       "      <td>1</td>\n",
       "      <td>B001E4KFG0</td>\n",
       "      <td>A3SGXH7AUHU8GW</td>\n",
       "      <td>delmartian</td>\n",
       "      <td>1</td>\n",
       "      <td>1</td>\n",
       "      <td>1</td>\n",
       "      <td>1303862400</td>\n",
       "      <td>Good Quality Dog Food</td>\n",
       "      <td>I have bought several of the Vitality canned d...</td>\n",
       "    </tr>\n",
       "    <tr>\n",
       "      <th>1</th>\n",
       "      <td>2</td>\n",
       "      <td>B00813GRG4</td>\n",
       "      <td>A1D87F6ZCVE5NK</td>\n",
       "      <td>dll pa</td>\n",
       "      <td>0</td>\n",
       "      <td>0</td>\n",
       "      <td>0</td>\n",
       "      <td>1346976000</td>\n",
       "      <td>Not as Advertised</td>\n",
       "      <td>Product arrived labeled as Jumbo Salted Peanut...</td>\n",
       "    </tr>\n",
       "    <tr>\n",
       "      <th>2</th>\n",
       "      <td>3</td>\n",
       "      <td>B000LQOCH0</td>\n",
       "      <td>ABXLMWJIXXAIN</td>\n",
       "      <td>Natalia Corres \"Natalia Corres\"</td>\n",
       "      <td>1</td>\n",
       "      <td>1</td>\n",
       "      <td>1</td>\n",
       "      <td>1219017600</td>\n",
       "      <td>\"Delight\" says it all</td>\n",
       "      <td>This is a confection that has been around a fe...</td>\n",
       "    </tr>\n",
       "  </tbody>\n",
       "</table>\n",
       "</div>"
      ],
      "text/plain": [
       "   Id   ProductId          UserId                      ProfileName  \\\n",
       "0   1  B001E4KFG0  A3SGXH7AUHU8GW                       delmartian   \n",
       "1   2  B00813GRG4  A1D87F6ZCVE5NK                           dll pa   \n",
       "2   3  B000LQOCH0   ABXLMWJIXXAIN  Natalia Corres \"Natalia Corres\"   \n",
       "\n",
       "   HelpfulnessNumerator  HelpfulnessDenominator  Score        Time  \\\n",
       "0                     1                       1      1  1303862400   \n",
       "1                     0                       0      0  1346976000   \n",
       "2                     1                       1      1  1219017600   \n",
       "\n",
       "                 Summary                                               Text  \n",
       "0  Good Quality Dog Food  I have bought several of the Vitality canned d...  \n",
       "1      Not as Advertised  Product arrived labeled as Jumbo Salted Peanut...  \n",
       "2  \"Delight\" says it all  This is a confection that has been around a fe...  "
      ]
     },
     "execution_count": 3,
     "metadata": {},
     "output_type": "execute_result"
    }
   ],
   "source": [
    "# For Each review the scores will be 1,2 and 4,5.\n",
    "# We will mark negative review as 0 and positive reviews as 1 for classification purposes\n",
    "def partition(x) :\n",
    "    if x > 3 :\n",
    "        return 1\n",
    "    return 0\n",
    "\n",
    "actualscore = filtered_data['Score']\n",
    "positivenegative = actualscore.map(partition)\n",
    "filtered_data['Score'] = positivenegative\n",
    "print(\"Number of data points in our data\", filtered_data.shape)\n",
    "filtered_data.head(3)"
   ]
  },
  {
   "cell_type": "code",
   "execution_count": 4,
   "metadata": {},
   "outputs": [
    {
     "data": {
      "text/html": [
       "<div>\n",
       "<style scoped>\n",
       "    .dataframe tbody tr th:only-of-type {\n",
       "        vertical-align: middle;\n",
       "    }\n",
       "\n",
       "    .dataframe tbody tr th {\n",
       "        vertical-align: top;\n",
       "    }\n",
       "\n",
       "    .dataframe thead th {\n",
       "        text-align: right;\n",
       "    }\n",
       "</style>\n",
       "<table border=\"1\" class=\"dataframe\">\n",
       "  <thead>\n",
       "    <tr style=\"text-align: right;\">\n",
       "      <th></th>\n",
       "      <th>Id</th>\n",
       "      <th>HelpfulnessNumerator</th>\n",
       "      <th>HelpfulnessDenominator</th>\n",
       "      <th>Score</th>\n",
       "      <th>Time</th>\n",
       "    </tr>\n",
       "  </thead>\n",
       "  <tbody>\n",
       "    <tr>\n",
       "      <th>count</th>\n",
       "      <td>150000.000000</td>\n",
       "      <td>150000.000000</td>\n",
       "      <td>150000.000000</td>\n",
       "      <td>150000.000000</td>\n",
       "      <td>1.500000e+05</td>\n",
       "    </tr>\n",
       "    <tr>\n",
       "      <th>mean</th>\n",
       "      <td>81466.351767</td>\n",
       "      <td>1.683353</td>\n",
       "      <td>2.146233</td>\n",
       "      <td>0.842147</td>\n",
       "      <td>1.296091e+09</td>\n",
       "    </tr>\n",
       "    <tr>\n",
       "      <th>std</th>\n",
       "      <td>46958.766654</td>\n",
       "      <td>6.825579</td>\n",
       "      <td>7.418456</td>\n",
       "      <td>0.364605</td>\n",
       "      <td>4.766398e+07</td>\n",
       "    </tr>\n",
       "    <tr>\n",
       "      <th>min</th>\n",
       "      <td>1.000000</td>\n",
       "      <td>0.000000</td>\n",
       "      <td>0.000000</td>\n",
       "      <td>0.000000</td>\n",
       "      <td>9.393408e+08</td>\n",
       "    </tr>\n",
       "    <tr>\n",
       "      <th>25%</th>\n",
       "      <td>40734.750000</td>\n",
       "      <td>0.000000</td>\n",
       "      <td>0.000000</td>\n",
       "      <td>1.000000</td>\n",
       "      <td>1.270598e+09</td>\n",
       "    </tr>\n",
       "    <tr>\n",
       "      <th>50%</th>\n",
       "      <td>81583.500000</td>\n",
       "      <td>0.000000</td>\n",
       "      <td>1.000000</td>\n",
       "      <td>1.000000</td>\n",
       "      <td>1.310947e+09</td>\n",
       "    </tr>\n",
       "    <tr>\n",
       "      <th>75%</th>\n",
       "      <td>122047.250000</td>\n",
       "      <td>2.000000</td>\n",
       "      <td>2.000000</td>\n",
       "      <td>1.000000</td>\n",
       "      <td>1.332547e+09</td>\n",
       "    </tr>\n",
       "    <tr>\n",
       "      <th>max</th>\n",
       "      <td>162717.000000</td>\n",
       "      <td>559.000000</td>\n",
       "      <td>562.000000</td>\n",
       "      <td>1.000000</td>\n",
       "      <td>1.351210e+09</td>\n",
       "    </tr>\n",
       "  </tbody>\n",
       "</table>\n",
       "</div>"
      ],
      "text/plain": [
       "                  Id  HelpfulnessNumerator  HelpfulnessDenominator  \\\n",
       "count  150000.000000         150000.000000           150000.000000   \n",
       "mean    81466.351767              1.683353                2.146233   \n",
       "std     46958.766654              6.825579                7.418456   \n",
       "min         1.000000              0.000000                0.000000   \n",
       "25%     40734.750000              0.000000                0.000000   \n",
       "50%     81583.500000              0.000000                1.000000   \n",
       "75%    122047.250000              2.000000                2.000000   \n",
       "max    162717.000000            559.000000              562.000000   \n",
       "\n",
       "               Score          Time  \n",
       "count  150000.000000  1.500000e+05  \n",
       "mean        0.842147  1.296091e+09  \n",
       "std         0.364605  4.766398e+07  \n",
       "min         0.000000  9.393408e+08  \n",
       "25%         1.000000  1.270598e+09  \n",
       "50%         1.000000  1.310947e+09  \n",
       "75%         1.000000  1.332547e+09  \n",
       "max         1.000000  1.351210e+09  "
      ]
     },
     "execution_count": 4,
     "metadata": {},
     "output_type": "execute_result"
    }
   ],
   "source": [
    "#Checking the database statistics\n",
    "filtered_data.describe()"
   ]
  },
  {
   "cell_type": "markdown",
   "metadata": {},
   "source": [
    "# 2. Exploratory Data Analysis"
   ]
  },
  {
   "cell_type": "markdown",
   "metadata": {},
   "source": [
    "## 2.1 Data Cleaning: Deduplication\n",
    "\n",
    "It is observed (as shown in the table below) that the reviews data had many duplicate entries. Hence it was necessary to remove duplicates in order to get unbiased results for the analysis of the data. Following is an example:"
   ]
  },
  {
   "cell_type": "code",
   "execution_count": 5,
   "metadata": {},
   "outputs": [
    {
     "data": {
      "text/html": [
       "<div>\n",
       "<style scoped>\n",
       "    .dataframe tbody tr th:only-of-type {\n",
       "        vertical-align: middle;\n",
       "    }\n",
       "\n",
       "    .dataframe tbody tr th {\n",
       "        vertical-align: top;\n",
       "    }\n",
       "\n",
       "    .dataframe thead th {\n",
       "        text-align: right;\n",
       "    }\n",
       "</style>\n",
       "<table border=\"1\" class=\"dataframe\">\n",
       "  <thead>\n",
       "    <tr style=\"text-align: right;\">\n",
       "      <th></th>\n",
       "      <th>Id</th>\n",
       "      <th>ProductId</th>\n",
       "      <th>UserId</th>\n",
       "      <th>ProfileName</th>\n",
       "      <th>HelpfulnessNumerator</th>\n",
       "      <th>HelpfulnessDenominator</th>\n",
       "      <th>Score</th>\n",
       "      <th>Time</th>\n",
       "      <th>Summary</th>\n",
       "      <th>Text</th>\n",
       "    </tr>\n",
       "  </thead>\n",
       "  <tbody>\n",
       "    <tr>\n",
       "      <th>0</th>\n",
       "      <td>320691</td>\n",
       "      <td>B000CQ26E0</td>\n",
       "      <td>ABXLMWJIXXAIN</td>\n",
       "      <td>Natalia Corres \"Natalia Corres\"</td>\n",
       "      <td>0</td>\n",
       "      <td>0</td>\n",
       "      <td>4</td>\n",
       "      <td>1187740800</td>\n",
       "      <td>Fast, Easy and organic</td>\n",
       "      <td>For speed and wholesome goodness, Annie's can ...</td>\n",
       "    </tr>\n",
       "    <tr>\n",
       "      <th>1</th>\n",
       "      <td>3</td>\n",
       "      <td>B000LQOCH0</td>\n",
       "      <td>ABXLMWJIXXAIN</td>\n",
       "      <td>Natalia Corres \"Natalia Corres\"</td>\n",
       "      <td>1</td>\n",
       "      <td>1</td>\n",
       "      <td>4</td>\n",
       "      <td>1219017600</td>\n",
       "      <td>\"Delight\" says it all</td>\n",
       "      <td>This is a confection that has been around a fe...</td>\n",
       "    </tr>\n",
       "    <tr>\n",
       "      <th>2</th>\n",
       "      <td>468954</td>\n",
       "      <td>B004DMGQKE</td>\n",
       "      <td>ABXLMWJIXXAIN</td>\n",
       "      <td>Natalia Corres \"Natalia Corres\"</td>\n",
       "      <td>0</td>\n",
       "      <td>0</td>\n",
       "      <td>5</td>\n",
       "      <td>1351209600</td>\n",
       "      <td>Awesome service and great products</td>\n",
       "      <td>We sent this product as a gift to my husband's...</td>\n",
       "    </tr>\n",
       "  </tbody>\n",
       "</table>\n",
       "</div>"
      ],
      "text/plain": [
       "       Id   ProductId         UserId                      ProfileName  \\\n",
       "0  320691  B000CQ26E0  ABXLMWJIXXAIN  Natalia Corres \"Natalia Corres\"   \n",
       "1       3  B000LQOCH0  ABXLMWJIXXAIN  Natalia Corres \"Natalia Corres\"   \n",
       "2  468954  B004DMGQKE  ABXLMWJIXXAIN  Natalia Corres \"Natalia Corres\"   \n",
       "\n",
       "   HelpfulnessNumerator  HelpfulnessDenominator  Score        Time  \\\n",
       "0                     0                       0      4  1187740800   \n",
       "1                     1                       1      4  1219017600   \n",
       "2                     0                       0      5  1351209600   \n",
       "\n",
       "                              Summary  \\\n",
       "0              Fast, Easy and organic   \n",
       "1               \"Delight\" says it all   \n",
       "2  Awesome service and great products   \n",
       "\n",
       "                                                Text  \n",
       "0  For speed and wholesome goodness, Annie's can ...  \n",
       "1  This is a confection that has been around a fe...  \n",
       "2  We sent this product as a gift to my husband's...  "
      ]
     },
     "execution_count": 5,
     "metadata": {},
     "output_type": "execute_result"
    }
   ],
   "source": [
    "display= pd.read_sql_query(\"\"\"\n",
    "SELECT *\n",
    "FROM Reviews\n",
    "WHERE Score != 3 AND UserId='ABXLMWJIXXAIN'\n",
    "ORDER BY ProductID\n",
    "\"\"\", con)\n",
    "display.head()"
   ]
  },
  {
   "cell_type": "markdown",
   "metadata": {},
   "source": [
    "From the above output we could observe that For a single UserId there are multiple reviews. So we need to sort the data and\n",
    "delete the duplicate records based on the ProductId and UserId"
   ]
  },
  {
   "cell_type": "code",
   "execution_count": 6,
   "metadata": {},
   "outputs": [],
   "source": [
    "#Sorting data according to ProductId in ascending order\n",
    "sorted_data=filtered_data.sort_values('ProductId', axis=0, ascending=True, inplace=False, \n",
    "                                      kind='quicksort', na_position='last')"
   ]
  },
  {
   "cell_type": "code",
   "execution_count": 7,
   "metadata": {},
   "outputs": [
    {
     "data": {
      "text/plain": [
       "(126359, 10)"
      ]
     },
     "execution_count": 7,
     "metadata": {},
     "output_type": "execute_result"
    }
   ],
   "source": [
    "#Deduplication of entries\n",
    "final=sorted_data.drop_duplicates(subset={\"UserId\",\"ProfileName\",\"Time\",\"Text\"}, keep='first', inplace=False)\n",
    "final.shape"
   ]
  },
  {
   "cell_type": "code",
   "execution_count": 8,
   "metadata": {},
   "outputs": [
    {
     "data": {
      "text/plain": [
       "84.23933333333333"
      ]
     },
     "execution_count": 8,
     "metadata": {},
     "output_type": "execute_result"
    }
   ],
   "source": [
    "#Checking to see how much % of data still remains\n",
    "(final['Id'].size*1.0)/(filtered_data['Id'].size*1.0)*100"
   ]
  },
  {
   "cell_type": "markdown",
   "metadata": {},
   "source": [
    "Observation:- It was also seen that in two rows given below the value of HelpfulnessNumerator is greater than HelpfulnessDenominator which is not practically possible hence these two rows too are removed from calcualtions"
   ]
  },
  {
   "cell_type": "code",
   "execution_count": 9,
   "metadata": {},
   "outputs": [
    {
     "data": {
      "text/html": [
       "<div>\n",
       "<style scoped>\n",
       "    .dataframe tbody tr th:only-of-type {\n",
       "        vertical-align: middle;\n",
       "    }\n",
       "\n",
       "    .dataframe tbody tr th {\n",
       "        vertical-align: top;\n",
       "    }\n",
       "\n",
       "    .dataframe thead th {\n",
       "        text-align: right;\n",
       "    }\n",
       "</style>\n",
       "<table border=\"1\" class=\"dataframe\">\n",
       "  <thead>\n",
       "    <tr style=\"text-align: right;\">\n",
       "      <th></th>\n",
       "      <th>Id</th>\n",
       "      <th>ProductId</th>\n",
       "      <th>UserId</th>\n",
       "      <th>ProfileName</th>\n",
       "      <th>HelpfulnessNumerator</th>\n",
       "      <th>HelpfulnessDenominator</th>\n",
       "      <th>Score</th>\n",
       "      <th>Time</th>\n",
       "      <th>Summary</th>\n",
       "      <th>Text</th>\n",
       "    </tr>\n",
       "  </thead>\n",
       "  <tbody>\n",
       "    <tr>\n",
       "      <th>0</th>\n",
       "      <td>64422</td>\n",
       "      <td>B000MIDROQ</td>\n",
       "      <td>A161DK06JJMCYF</td>\n",
       "      <td>J. E. Stephens \"Jeanne\"</td>\n",
       "      <td>3</td>\n",
       "      <td>1</td>\n",
       "      <td>5</td>\n",
       "      <td>1224892800</td>\n",
       "      <td>Bought This for My Son at College</td>\n",
       "      <td>My son loves spaghetti so I didn't hesitate or...</td>\n",
       "    </tr>\n",
       "    <tr>\n",
       "      <th>1</th>\n",
       "      <td>44737</td>\n",
       "      <td>B001EQ55RW</td>\n",
       "      <td>A2V0I904FH7ABY</td>\n",
       "      <td>Ram</td>\n",
       "      <td>3</td>\n",
       "      <td>2</td>\n",
       "      <td>4</td>\n",
       "      <td>1212883200</td>\n",
       "      <td>Pure cocoa taste with crunchy almonds inside</td>\n",
       "      <td>It was almost a 'love at first bite' - the per...</td>\n",
       "    </tr>\n",
       "  </tbody>\n",
       "</table>\n",
       "</div>"
      ],
      "text/plain": [
       "      Id   ProductId          UserId              ProfileName  \\\n",
       "0  64422  B000MIDROQ  A161DK06JJMCYF  J. E. Stephens \"Jeanne\"   \n",
       "1  44737  B001EQ55RW  A2V0I904FH7ABY                      Ram   \n",
       "\n",
       "   HelpfulnessNumerator  HelpfulnessDenominator  Score        Time  \\\n",
       "0                     3                       1      5  1224892800   \n",
       "1                     3                       2      4  1212883200   \n",
       "\n",
       "                                        Summary  \\\n",
       "0             Bought This for My Son at College   \n",
       "1  Pure cocoa taste with crunchy almonds inside   \n",
       "\n",
       "                                                Text  \n",
       "0  My son loves spaghetti so I didn't hesitate or...  \n",
       "1  It was almost a 'love at first bite' - the per...  "
      ]
     },
     "execution_count": 9,
     "metadata": {},
     "output_type": "execute_result"
    }
   ],
   "source": [
    "display= pd.read_sql_query(\"\"\"\n",
    "SELECT *\n",
    "FROM Reviews\n",
    "WHERE Score != 3 AND HelpfulnessNumerator > HelpfulnessDenominator\n",
    "ORDER BY ProductID\n",
    "\"\"\", con)\n",
    "\n",
    "display.head()"
   ]
  },
  {
   "cell_type": "code",
   "execution_count": 10,
   "metadata": {},
   "outputs": [],
   "source": [
    "final=final[final.HelpfulnessNumerator<=final.HelpfulnessDenominator]"
   ]
  },
  {
   "cell_type": "code",
   "execution_count": 11,
   "metadata": {},
   "outputs": [
    {
     "name": "stdout",
     "output_type": "stream",
     "text": [
      "(126357, 10)\n"
     ]
    },
    {
     "data": {
      "text/plain": [
       "1    106326\n",
       "0     20031\n",
       "Name: Score, dtype: int64"
      ]
     },
     "execution_count": 11,
     "metadata": {},
     "output_type": "execute_result"
    }
   ],
   "source": [
    "#Before starting the next phase of preprocessing lets see the number of entries left\n",
    "print(final.shape)\n",
    "\n",
    "score = final['Score']\n",
    "\n",
    "#How many positive and negative reviews are present in our dataset?\n",
    "final['Score'].value_counts()\n"
   ]
  },
  {
   "cell_type": "markdown",
   "metadata": {},
   "source": [
    "# 3. Preprocessing"
   ]
  },
  {
   "cell_type": "markdown",
   "metadata": {},
   "source": [
    "## 3.1 Preprocessing Review Text\n",
    "\n",
    "Now that we have finished deduplication our data requires some preprocessing before we go on further with analysis and making the prediction model.\n",
    "\n",
    "Hence in the Preprocessing phase we do the following in the order below:-\n",
    "\n",
    "    Begin by removing the html tags\n",
    "    Remove any punctuations or limited set of special characters like , or . or # etc.\n",
    "    Check if the word is made up of english letters and is not alpha-numeric\n",
    "    Check to see if the length of the word is greater than 2 (as it was researched that there is no adjective in 2-letters)\n",
    "    Convert the word to lowercase\n",
    "    Remove Stopwords\n",
    "    Finally Snowball Stemming the word (it was obsereved to be better than Porter Stemming)\n",
    "\n",
    "After which we collect the words used to describe positive and negative reviews"
   ]
  },
  {
   "cell_type": "code",
   "execution_count": 12,
   "metadata": {},
   "outputs": [
    {
     "name": "stdout",
     "output_type": "stream",
     "text": [
      "==================================================\n",
      "My only complaint about this product is that sometimes it is difficult to squeeze just a very small amount from the bottle into the mixture to be colored.  I don't do massive amounts of baking, and I find that sometimes it is really hard to get a very light color when adding this product to very small quantities of mixture.  However, the colors are very bright and I was very pleased to find that the color is evenly distributed throughout the mixture.  I thought this product was a little pricy, but after trying it out, I do believe that it was worth the extra money.  The product seems of high quality and it shows in my cooking whenever I want to add some color to things.\n",
      "==================================================\n"
     ]
    }
   ],
   "source": [
    "sent_100 = final['Text'].values[100]\n",
    "print(\"=\"*50)\n",
    "print(sent_100)\n",
    "print(\"=\"*50)"
   ]
  },
  {
   "cell_type": "code",
   "execution_count": 13,
   "metadata": {},
   "outputs": [],
   "source": [
    "def cleanhtml(sentence):\n",
    "    sent = re.sub(r\"http\\S+\", \"\", sentence)\n",
    "    return sent"
   ]
  },
  {
   "cell_type": "code",
   "execution_count": 14,
   "metadata": {},
   "outputs": [],
   "source": [
    "import re\n",
    "\n",
    "def decontracted(phrase):\n",
    "    # specific\n",
    "    phrase = re.sub(r\"won't\", \"will not\", phrase)\n",
    "    phrase = re.sub(r\"can\\'t\", \"can not\", phrase)\n",
    "\n",
    "    # general\n",
    "    phrase = re.sub(r\"n\\'t\", \" not\", phrase)\n",
    "    phrase = re.sub(r\"\\'re\", \" are\", phrase)\n",
    "    phrase = re.sub(r\"\\'s\", \" is\", phrase)\n",
    "    phrase = re.sub(r\"\\'d\", \" would\", phrase)\n",
    "    phrase = re.sub(r\"\\'ll\", \" will\", phrase)\n",
    "    phrase = re.sub(r\"\\'t\", \" not\", phrase)\n",
    "    phrase = re.sub(r\"\\'ve\", \" have\", phrase)\n",
    "    phrase = re.sub(r\"\\'m\", \" am\", phrase)\n",
    "    return phrase"
   ]
  },
  {
   "cell_type": "code",
   "execution_count": 15,
   "metadata": {},
   "outputs": [],
   "source": [
    "#remove words with numbers python: https://stackoverflow.com/a/18082370/4084039\n",
    "def rmwrdswithnumbers(sentence):\n",
    "    sent = re.sub(\"\\S*\\d\\S*\", \"\", sentence).strip()\n",
    "    return sent"
   ]
  },
  {
   "cell_type": "code",
   "execution_count": 16,
   "metadata": {},
   "outputs": [],
   "source": [
    "#remove spacial character: https://stackoverflow.com/a/5843547/4084039\n",
    "def rmspcchar(sentence):\n",
    "    sent = re.sub('[^A-Za-z0-9]+', ' ', sentence)\n",
    "    return sent"
   ]
  },
  {
   "cell_type": "code",
   "execution_count": 17,
   "metadata": {},
   "outputs": [
    {
     "name": "stderr",
     "output_type": "stream",
     "text": [
      "[nltk_data] Downloading package stopwords to\n",
      "[nltk_data]     /home/kirankumar_yeddala/nltk_data...\n",
      "[nltk_data]   Package stopwords is already up-to-date!\n"
     ]
    }
   ],
   "source": [
    "nltk.download('stopwords')\n",
    "stopwords = set(stopwords.words('english'))"
   ]
  },
  {
   "cell_type": "code",
   "execution_count": 18,
   "metadata": {},
   "outputs": [
    {
     "name": "stderr",
     "output_type": "stream",
     "text": [
      "100%|██████████| 126357/126357 [00:14<00:00, 8779.37it/s]\n"
     ]
    }
   ],
   "source": [
    "from tqdm import tqdm\n",
    "preprocessed_reviews = []\n",
    "for sentance in tqdm(final['Text'].values):\n",
    "    sentance = cleanhtml(sentance)\n",
    "    sentance = decontracted(sentance)\n",
    "    sentance = rmwrdswithnumbers(sentance)\n",
    "    sentance = rmspcchar(sentance)\n",
    "    sentance = ' '.join(e.lower() for e in sentance.split() if e.lower() not in stopwords)\n",
    "    preprocessed_reviews.append(sentance.strip())"
   ]
  },
  {
   "cell_type": "code",
   "execution_count": 19,
   "metadata": {},
   "outputs": [
    {
     "data": {
      "text/plain": [
       "'complaint product sometimes difficult squeeze small amount bottle mixture colored massive amounts baking find sometimes really hard get light color adding product small quantities mixture however colors bright pleased find color evenly distributed throughout mixture thought product little pricy trying believe worth extra money product seems high quality shows cooking whenever want add color things'"
      ]
     },
     "execution_count": 19,
     "metadata": {},
     "output_type": "execute_result"
    }
   ],
   "source": [
    "preprocessed_reviews[100]"
   ]
  },
  {
   "cell_type": "markdown",
   "metadata": {},
   "source": [
    "# 3.2 Preprocessing Review Summary"
   ]
  },
  {
   "cell_type": "code",
   "execution_count": 20,
   "metadata": {},
   "outputs": [
    {
     "name": "stderr",
     "output_type": "stream",
     "text": [
      "100%|██████████| 126357/126357 [00:02<00:00, 49708.05it/s]\n"
     ]
    }
   ],
   "source": [
    "from tqdm import tqdm\n",
    "preprocessed_reviews_summary = []\n",
    "for sentance in tqdm(final['Summary'].values):\n",
    "    sentance = cleanhtml(sentance)\n",
    "    sentance = decontracted(sentance)\n",
    "    sentance = rmwrdswithnumbers(sentance)\n",
    "    sentance = rmspcchar(sentance)\n",
    "    sentance = ' '.join(e.lower() for e in sentance.split() if e.lower() not in stopwords)\n",
    "    preprocessed_reviews_summary.append(sentance.strip())"
   ]
  },
  {
   "cell_type": "code",
   "execution_count": 21,
   "metadata": {},
   "outputs": [
    {
     "data": {
      "text/plain": [
       "'happy'"
      ]
     },
     "execution_count": 21,
     "metadata": {},
     "output_type": "execute_result"
    }
   ],
   "source": [
    "preprocessed_reviews_summary[100]"
   ]
  },
  {
   "cell_type": "code",
   "execution_count": 22,
   "metadata": {},
   "outputs": [],
   "source": [
    "# Splitting the data into train, cross validate and test (Train = 60%, CV = 20%, Test = 20%)\n",
    "x_train1, x_test, y_train1, y_test = train_test_split(preprocessed_reviews, score, test_size=0.2, \n",
    "                                                    stratify=None, random_state=0)\n",
    "x_train, x_cv, y_train, y_cv= train_test_split(x_train1, y_train1, test_size = 0.25, random_state = 0,\n",
    "                                                       stratify = None)"
   ]
  },
  {
   "cell_type": "markdown",
   "metadata": {},
   "source": [
    "# 4. Featurization"
   ]
  },
  {
   "cell_type": "markdown",
   "metadata": {},
   "source": [
    "# 4.1 Bag of Words"
   ]
  },
  {
   "cell_type": "code",
   "execution_count": 23,
   "metadata": {},
   "outputs": [],
   "source": [
    "#*********BOW***************\n",
    "bow_vect = CountVectorizer()\n",
    "model = bow_vect.fit(x_train)\n",
    "bow_train = model.transform(x_train)\n",
    "bow_cv = model.transform(x_cv)\n",
    "bow_test = model.transform(x_test)"
   ]
  },
  {
   "cell_type": "markdown",
   "metadata": {},
   "source": [
    "# 4.2 TFIDF"
   ]
  },
  {
   "cell_type": "code",
   "execution_count": 68,
   "metadata": {},
   "outputs": [],
   "source": [
    "#*******TFIDF********************\n",
    "tfidf_vect = TfidfVectorizer(ngram_range=(1,2), min_df = 10, max_features=5000)\n",
    "model_tf = tfidf_vect.fit(x_train)\n",
    "tfidf_train = model_tf.transform(x_train)\n",
    "tfidf_cv = model_tf.transform(x_cv)\n",
    "tfidf_test = model_tf.transform(x_test)"
   ]
  },
  {
   "cell_type": "markdown",
   "metadata": {},
   "source": [
    "# 4.3 W2V"
   ]
  },
  {
   "cell_type": "code",
   "execution_count": 26,
   "metadata": {},
   "outputs": [],
   "source": [
    "#********W2V*********************\n",
    "w2v_words = []\n",
    "for sent in preprocessed_reviews:\n",
    "    w2v_words.append(sent.split())\n",
    "w2v = Word2Vec(w2v_words, min_count=5, size=50, workers=4)\n",
    "w2v_words_list = list(w2v.wv.vocab)"
   ]
  },
  {
   "cell_type": "markdown",
   "metadata": {},
   "source": [
    "# 4.3.1 AVG W2V"
   ]
  },
  {
   "cell_type": "code",
   "execution_count": 27,
   "metadata": {},
   "outputs": [
    {
     "name": "stderr",
     "output_type": "stream",
     "text": [
      "100%|██████████| 87773/87773 [18:38<00:00, 78.46it/s] "
     ]
    },
    {
     "name": "stdout",
     "output_type": "stream",
     "text": [
      "87773\n",
      "50\n"
     ]
    },
    {
     "name": "stderr",
     "output_type": "stream",
     "text": [
      "\n"
     ]
    }
   ],
   "source": [
    "#********AvgW2V******************\n",
    "avg_w2vs = []\n",
    "for sent in tqdm(preprocessed_reviews):\n",
    "    #initializing number of words\n",
    "    n_words = 0\n",
    "    #initializing vector of size of 50\n",
    "    sent_vec = np.zeros(50)\n",
    "    for word in sent.split():\n",
    "        if word in w2v_words_list:\n",
    "            #creating for each word is an vector\n",
    "            vec = w2v.wv[word]\n",
    "            sent_vec += vec\n",
    "            n_words += 1\n",
    "    if n_words != 0:\n",
    "        sent_vec /= n_words\n",
    "        avg_w2vs.append(sent_vec)\n",
    "print(len(avg_w2vs))\n",
    "print(len(avg_w2vs[0]))"
   ]
  },
  {
   "cell_type": "markdown",
   "metadata": {},
   "source": [
    "# 4.4 TFIDF W2V"
   ]
  },
  {
   "cell_type": "code",
   "execution_count": 28,
   "metadata": {},
   "outputs": [
    {
     "name": "stderr",
     "output_type": "stream",
     "text": [
      "100%|██████████| 87773/87773 [2:26:44<00:00,  9.97it/s]  \n"
     ]
    }
   ],
   "source": [
    "#*********TfidfW2V*******************\n",
    "tfidf_vect = TfidfVectorizer(ngram_range=(1,2))\n",
    "tfidf = tfidf_vect.fit_transform(preprocessed_reviews)\n",
    "features = tfidf_vect.get_feature_names()\n",
    "tfidf_w2vs = []\n",
    "row = 0\n",
    "for sent in tqdm(preprocessed_reviews):\n",
    "    sent_vec = np.zeros(50)\n",
    "    tfidf_sum = 0\n",
    "    for word in sent.split():\n",
    "        if(word in w2v_words and word in features):\n",
    "            vec = w2v.wv[word]\n",
    "            tfidf_value = tfidf[row, features.index(word)]\n",
    "            sent_vec += (vec * tfidf_value)\n",
    "            tfidf_sum += tfidf_value\n",
    "    if(tfidf_sum != 0):\n",
    "        sent_vec /= tfidf_sum\n",
    "        tfidf_w2vs.append(sent_vec)\n",
    "    row += 1"
   ]
  },
  {
   "cell_type": "code",
   "execution_count": 25,
   "metadata": {},
   "outputs": [],
   "source": [
    "# Here we are trying to find AUC score for each alpha using cross validation data. We are using simple cross\n",
    "# validation data\n",
    "def Multi_NB_CV(x_cv, x_test, y_cv, y_test):\n",
    "    cv_auc = []\n",
    "    alpha = [10000,1000,100,10,1,0.1,0.01,0.001,0.0001]\n",
    "    for i in alpha:\n",
    "        tbs = TimeSeriesSplit(n_splits=10)\n",
    "        nb = MultinomialNB(alpha = i)\n",
    "        nb.fit(x_cv, y_cv)\n",
    "        pred_cv = nb.predict_proba(x_cv)[:,1]\n",
    "        cv_auc.append(roc_auc_score(y_cv,pred_cv))\n",
    "        print(\"for alpha = {0} the roc_auc_score is {1}\". format(i, roc_auc_score(y_cv,pred_cv)))\n",
    "    optimal_alpha_cv = alpha[cv_auc.index(max(cv_auc))]\n",
    "    return cv_auc, optimal_alpha_cv"
   ]
  },
  {
   "cell_type": "code",
   "execution_count": 26,
   "metadata": {},
   "outputs": [],
   "source": [
    "# Here we are trying to find AUC score for each alpha using Train data. We are using simple cross\n",
    "#- validation data\n",
    "def Multi_NB_train(x_train, x_test, y_train, y_test):\n",
    "    train_auc = []\n",
    "    alpha = [10000,1000,100,10,1,0.1,0.01,0.001,0.0001]\n",
    "    for i in alpha:\n",
    "        tbs = TimeSeriesSplit(n_splits=10)\n",
    "        nb = MultinomialNB(alpha = i)\n",
    "        nb.fit(x_train, y_train)\n",
    "        pred_train = nb.predict_proba(x_train)[:,1]\n",
    "        train_auc.append(roc_auc_score(y_train,pred_train))\n",
    "        print(\"for alpha = {0} the roc_auc_score is {1}\". format(i, roc_auc_score(y_train,pred_train)))\n",
    "    optimal_alpha_train = alpha[train_auc.index(max(train_auc))]\n",
    "    return train_auc, optimal_alpha_train, nb"
   ]
  },
  {
   "cell_type": "code",
   "execution_count": 27,
   "metadata": {},
   "outputs": [],
   "source": [
    "# Plotting the AUC score \n",
    "def ploting_train_cv(alpha, train_auc, cv_auc):\n",
    "    plt.plot(alpha, cv_auc, label = 'cv_auc')\n",
    "    plt.plot(alpha, train_auc, label = 'train_auc')\n",
    "    plt.xlabel('hyperparameter')\n",
    "    plt.ylabel('area under AUC curve')\n",
    "    plt.title(\"Train AUC vs Validate AUC\")\n",
    "    plt.grid()\n",
    "    plt.legend()\n",
    "    plt.show()"
   ]
  },
  {
   "cell_type": "code",
   "execution_count": 87,
   "metadata": {},
   "outputs": [],
   "source": [
    "# Function for ROC Curve \n",
    "from sklearn.metrics import roc_curve\n",
    "def roc_cur(x_train, x_test, y_train, y_test, optimal_alpha):\n",
    "    model = MultinomialNB(alpha = optimal_alpha)\n",
    "    model.fit(x_train, y_train)\n",
    "    pred = model.predict(x_test)\n",
    "    pred_score = model.predict_proba(x_test)[:,1]\n",
    "    print('For alpha {0} the area under AUC curve is = {1}\\n'.format(optimal_alpha, roc_auc_score(y_test, pred_score)))\n",
    "    \n",
    "    fpr, tpr, threshold = metrics.roc_curve(y_test, pred_score)\n",
    "    roc_auc = metrics.auc(fpr, tpr)\n",
    "\n",
    "    plt.title(\"ROC Curve\")\n",
    "    plt.plot(fpr, tpr, 'b', label = 'AUC %0.2f' % roc_auc)\n",
    "    plt.legend(loc = 'lower right')\n",
    "    plt.plot([0, 1], [0, 1],'r--')\n",
    "    plt.xlim([0, 1])\n",
    "    plt.ylim([0, 1])\n",
    "    plt.ylabel('True Positive Rate')\n",
    "    plt.xlabel('False Positive Rate')\n",
    "    plt.show()\n",
    "    return pred"
   ]
  },
  {
   "cell_type": "code",
   "execution_count": 29,
   "metadata": {},
   "outputs": [],
   "source": [
    "# Function for calculating different metrics\n",
    "def metrics(gsearch_cv, std_test, y_test, x_train, y_train):\n",
    "    best_estimator = gsearch_cv.best_estimator_\n",
    "    best_estimator.fit(x_train, y_train)\n",
    "    y_pred = best_estimator.predict(std_test)\n",
    "    print(\"Accuracy on test data:\", round(accuracy_score(y_test, y_pred) * 100 , 2))\n",
    "    print(\"Precision on test data:\", round(precision_score(y_test, y_pred) * 100 , 2))\n",
    "    print(\"Recall on test data:\", round(recall_score(y_test, y_pred) * 100 , 2))\n",
    "    print(\"F1_score on test data:\", round(f1_score(y_test, y_pred) * 100,2))\n",
    "    return y_pred"
   ]
  },
  {
   "cell_type": "code",
   "execution_count": 30,
   "metadata": {},
   "outputs": [],
   "source": [
    "# Function for printing the confusion matrix\n",
    "def confus_mat(y_test, pred):\n",
    "    co_mt = confusion_matrix(y_test,pred)\n",
    "    class_label = ['negative', 'positive']\n",
    "    df_conf_matrix = pd.DataFrame(co_mt, index=class_label, columns=class_label)\n",
    "    sns.heatmap(df_conf_matrix, annot=True, fmt='d')\n",
    "    plt.title(\"Confusion Matrix\")\n",
    "    plt.xlabel(\"Predicted\")\n",
    "    plt.ylabel(\"Actual\")\n",
    "    plt.show()\n",
    "    print('-'*120)\n",
    "    print(\"Accuracy on test data:\", round(accuracy_score(y_test, pred) * 100 , 2))\n",
    "    print(\"Precision on test data:\", round(precision_score(y_test, pred) * 100 , 2))\n",
    "    print(\"Recall on test data:\", round(recall_score(y_test, pred) * 100 , 2))\n",
    "    print(\"F1_score on test data:\", round(f1_score(y_test, pred) * 100,2))"
   ]
  },
  {
   "cell_type": "markdown",
   "metadata": {},
   "source": [
    "# 5. Applying Naive Bayes"
   ]
  },
  {
   "cell_type": "markdown",
   "metadata": {},
   "source": [
    "## 5.1 Applying Multinomial NB on Bow"
   ]
  },
  {
   "cell_type": "code",
   "execution_count": 31,
   "metadata": {},
   "outputs": [],
   "source": [
    "# Normalizing the data\n",
    "from sklearn import preprocessing\n",
    "bow_train = preprocessing.normalize(bow_train)\n",
    "bow_cv = preprocessing.normalize(bow_cv)\n",
    "bow_test = preprocessing.normalize(bow_test)"
   ]
  },
  {
   "cell_type": "code",
   "execution_count": 56,
   "metadata": {},
   "outputs": [
    {
     "name": "stdout",
     "output_type": "stream",
     "text": [
      "for alpha = 10000 the roc_auc_score is 0.5890951916597568\n",
      "for alpha = 1000 the roc_auc_score is 0.6258857430229732\n",
      "for alpha = 100 the roc_auc_score is 0.6800231466949458\n",
      "for alpha = 10 the roc_auc_score is 0.762482471412153\n",
      "for alpha = 1 the roc_auc_score is 0.9233197889736758\n",
      "for alpha = 0.1 the roc_auc_score is 0.9616149385850794\n",
      "for alpha = 0.01 the roc_auc_score is 0.9733195484446174\n",
      "for alpha = 0.001 the roc_auc_score is 0.978180940394706\n",
      "for alpha = 0.0001 the roc_auc_score is 0.9803465931079426\n"
     ]
    },
    {
     "data": {
      "text/plain": [
       "0.0001"
      ]
     },
     "execution_count": 56,
     "metadata": {},
     "output_type": "execute_result"
    }
   ],
   "source": [
    "# Calling and Fitting the model\n",
    "train_auc, optimal_alpha_train, nb = Multi_NB_train(bow_train, bow_test, y_train, y_test)\n",
    "optimal_alpha_train"
   ]
  },
  {
   "cell_type": "code",
   "execution_count": 57,
   "metadata": {},
   "outputs": [
    {
     "name": "stdout",
     "output_type": "stream",
     "text": [
      "for alpha = 10000 the roc_auc_score is 0.5836209590465546\n",
      "for alpha = 1000 the roc_auc_score is 0.6038125736443832\n",
      "for alpha = 100 the roc_auc_score is 0.6559896115113838\n",
      "for alpha = 10 the roc_auc_score is 0.7204371858799408\n",
      "for alpha = 1 the roc_auc_score is 0.8756584368423358\n",
      "for alpha = 0.1 the roc_auc_score is 0.9735923051605249\n",
      "for alpha = 0.01 the roc_auc_score is 0.9850165294659033\n",
      "for alpha = 0.001 the roc_auc_score is 0.9885926697815247\n",
      "for alpha = 0.0001 the roc_auc_score is 0.9899787655308941\n"
     ]
    },
    {
     "data": {
      "text/plain": [
       "0.0001"
      ]
     },
     "execution_count": 57,
     "metadata": {},
     "output_type": "execute_result"
    }
   ],
   "source": [
    "cv_auc, optimal_alpha_cv = Multi_NB_CV(bow_cv, bow_test, y_cv, y_test)\n",
    "optimal_alpha_cv"
   ]
  },
  {
   "cell_type": "markdown",
   "metadata": {},
   "source": [
    "## Observation "
   ]
  },
  {
   "cell_type": "markdown",
   "metadata": {},
   "source": [
    "### From the above we can see that as the alpha value decreases AUC score increase which means the it is simple model. For alpha = 0.0001 AUC score is higher then we will consider it optimal alpha. "
   ]
  },
  {
   "cell_type": "code",
   "execution_count": 58,
   "metadata": {},
   "outputs": [
    {
     "data": {
      "image/png": "[encoded data removed]",
      "text/plain": [
       "<Figure size 432x288 with 1 Axes>"
      ]
     },
     "metadata": {},
     "output_type": "display_data"
    }
   ],
   "source": [
    "# Plotting on Train AUC and Validate AUC\n",
    "alpha = [10000,1000,100,10,1,0.1,0.01,0.001,0.0001]\n",
    "alpha = np.log(np.array(alpha))\n",
    "ploting_train_cv(alpha, train_auc, cv_auc)"
   ]
  },
  {
   "cell_type": "markdown",
   "metadata": {},
   "source": [
    "### From the above graphy we can see that both train AUC curve and Validate AUC curve decreases with the increase in alpha sharply which means as alpha increases the model becomes dumb model"
   ]
  },
  {
   "cell_type": "code",
   "execution_count": 89,
   "metadata": {},
   "outputs": [
    {
     "name": "stdout",
     "output_type": "stream",
     "text": [
      "For alpha 0.0001 the area under AUC curve is = 0.8942846023804469\n",
      "\n"
     ]
    },
    {
     "data": {
      "image/png": "[encoded data removed]",
      "text/plain": [
       "<Figure size 432x288 with 1 Axes>"
      ]
     },
     "metadata": {},
     "output_type": "display_data"
    }
   ],
   "source": [
    "# ROC Curve\n",
    "pred = roc_cur(bow_train, bow_test, y_train, y_test, optimal_alpha_cv)"
   ]
  },
  {
   "cell_type": "markdown",
   "metadata": {},
   "source": [
    "### From the above we can area under AUC Curve is above the diagnol line then we can say that my model is better than simple linear model"
   ]
  },
  {
   "cell_type": "code",
   "execution_count": 90,
   "metadata": {},
   "outputs": [
    {
     "data": {
      "image/png": "[encoded data removed]",
      "text/plain": [
       "<Figure size 432x288 with 2 Axes>"
      ]
     },
     "metadata": {},
     "output_type": "display_data"
    },
    {
     "name": "stdout",
     "output_type": "stream",
     "text": [
      "------------------------------------------------------------------------------------------------------------------------\n",
      "Accuracy on test data: 87.32\n",
      "Precision on test data: 87.24\n",
      "Recall on test data: 99.48\n",
      "F1_score on test data: 92.96\n"
     ]
    }
   ],
   "source": [
    "# Confusion Matrix\n",
    "confus_mat(y_test, pred)"
   ]
  },
  {
   "cell_type": "code",
   "execution_count": 61,
   "metadata": {},
   "outputs": [
    {
     "name": "stdout",
     "output_type": "stream",
     "text": [
      "Top 10 negative important features\n",
      "-----------------------------------------\n",
      "br\n",
      "like\n",
      "taste\n",
      "product\n",
      "would\n",
      "one\n",
      "coffee\n",
      "good\n",
      "flavor\n",
      "buy\n",
      "-----------------------------------------\n",
      "Top 10 positive important features\n",
      "-----------------------------------------\n",
      "br\n",
      "great\n",
      "good\n",
      "like\n",
      "love\n",
      "coffee\n",
      "one\n",
      "taste\n",
      "product\n",
      "flavor\n"
     ]
    }
   ],
   "source": [
    "#Top positive and Negative features \n",
    "features = bow_vect.get_feature_names()\n",
    "class_labels = nb.classes_\n",
    "top_negative = sorted(zip(nb.feature_log_prob_[0], features),reverse=True)[0:10]\n",
    "top_positive = sorted(zip(nb.feature_log_prob_[1], features),reverse=True)[0:10]\n",
    "print(\"Top 10 negative important features\")\n",
    "print(\"-----------------------------------------\")\n",
    "for coef, feat in top_negative:\n",
    "    print(feat)\n",
    "print(\"-----------------------------------------\")\n",
    "print(\"Top 10 positive important features\")\n",
    "print(\"-----------------------------------------\")\n",
    "for coef, feat in top_positive:\n",
    "    print(feat) "
   ]
  },
  {
   "cell_type": "markdown",
   "metadata": {},
   "source": [
    "## 5.2 Tfidf on Multinomial NB"
   ]
  },
  {
   "cell_type": "code",
   "execution_count": 69,
   "metadata": {},
   "outputs": [],
   "source": [
    "# Data Normalisation \n",
    "tfidf_train = preprocessing.normalize(tfidf_train)\n",
    "tfidf_cv = preprocessing.normalize(tfidf_cv)\n",
    "tfidf_test = preprocessing.normalize(tfidf_test)"
   ]
  },
  {
   "cell_type": "code",
   "execution_count": 70,
   "metadata": {},
   "outputs": [
    {
     "name": "stdout",
     "output_type": "stream",
     "text": [
      "for alpha = 10000 the roc_auc_score is 0.6296712542528822\n",
      "for alpha = 1000 the roc_auc_score is 0.6656828421839014\n",
      "for alpha = 100 the roc_auc_score is 0.7903058848603677\n",
      "for alpha = 10 the roc_auc_score is 0.9297995331893694\n",
      "for alpha = 1 the roc_auc_score is 0.9483477156013098\n",
      "for alpha = 0.1 the roc_auc_score is 0.9499045157218561\n",
      "for alpha = 0.01 the roc_auc_score is 0.9500742431282064\n",
      "for alpha = 0.001 the roc_auc_score is 0.950111611502867\n",
      "for alpha = 0.0001 the roc_auc_score is 0.9501260458636621\n"
     ]
    },
    {
     "data": {
      "text/plain": [
       "0.0001"
      ]
     },
     "execution_count": 70,
     "metadata": {},
     "output_type": "execute_result"
    }
   ],
   "source": [
    "# Calling and fitting the model\n",
    "train_auc, optimal_alpha_train, nb = Multi_NB_train(tfidf_train, tfidf_test, y_train, y_test)\n",
    "optimal_alpha_train"
   ]
  },
  {
   "cell_type": "code",
   "execution_count": 71,
   "metadata": {},
   "outputs": [
    {
     "name": "stdout",
     "output_type": "stream",
     "text": [
      "for alpha = 10000 the roc_auc_score is 0.6281573956131556\n",
      "for alpha = 1000 the roc_auc_score is 0.6445344302481425\n",
      "for alpha = 100 the roc_auc_score is 0.7204118214473976\n",
      "for alpha = 10 the roc_auc_score is 0.897906586115505\n",
      "for alpha = 1 the roc_auc_score is 0.9574695673122581\n",
      "for alpha = 0.1 the roc_auc_score is 0.9642367676219629\n",
      "for alpha = 0.01 the roc_auc_score is 0.9653462314366171\n",
      "for alpha = 0.001 the roc_auc_score is 0.9657289931903663\n",
      "for alpha = 0.0001 the roc_auc_score is 0.965919616746104\n"
     ]
    },
    {
     "data": {
      "text/plain": [
       "0.0001"
      ]
     },
     "execution_count": 71,
     "metadata": {},
     "output_type": "execute_result"
    }
   ],
   "source": [
    "cv_auc, optimal_alpha_cv = Multi_NB_CV(tfidf_cv, tfidf_test, y_cv, y_test)\n",
    "optimal_alpha_cv"
   ]
  },
  {
   "cell_type": "markdown",
   "metadata": {},
   "source": [
    "### From the above we can see that for alpha > 10 my auc score is constant for decrease in aplha value. For the  best alpha value is 0.1 So we will consider alpha = 0.1 as our model. "
   ]
  },
  {
   "cell_type": "code",
   "execution_count": 72,
   "metadata": {},
   "outputs": [
    {
     "data": {
      "image/png": "[encoded data removed]",
      "text/plain": [
       "<Figure size 432x288 with 1 Axes>"
      ]
     },
     "metadata": {},
     "output_type": "display_data"
    }
   ],
   "source": [
    "# Plotting Train AUC and Validate AUC\n",
    "alpha = [10000,1000,100,10,1,0.1,0.01,0.001,0.0001]\n",
    "alpha = np.log(np.array(alpha))\n",
    "ploting_train_cv(alpha, train_auc, cv_auc)"
   ]
  },
  {
   "cell_type": "code",
   "execution_count": 86,
   "metadata": {},
   "outputs": [
    {
     "name": "stdout",
     "output_type": "stream",
     "text": [
      "For alpha 0.0001 the area under AUC curve is = 0.9354631865738856\n",
      "\n"
     ]
    },
    {
     "data": {
      "image/png": "[encoded data removed]",
      "text/plain": [
       "<Figure size 432x288 with 1 Axes>"
      ]
     },
     "metadata": {},
     "output_type": "display_data"
    }
   ],
   "source": [
    "# ROC curve on Train and Test Data\n",
    "pred = roc_cur(tfidf_train, tfidf_test, y_train, y_test, optimal_alpha_cv)"
   ]
  },
  {
   "cell_type": "markdown",
   "metadata": {},
   "source": [
    "### From the above we can area under AUC Curve is above the diagnol line then we can say that my model is better than simple linear model"
   ]
  },
  {
   "cell_type": "code",
   "execution_count": 91,
   "metadata": {},
   "outputs": [
    {
     "data": {
      "image/png": "[encoded data removed]",
      "text/plain": [
       "<Figure size 432x288 with 2 Axes>"
      ]
     },
     "metadata": {},
     "output_type": "display_data"
    },
    {
     "name": "stdout",
     "output_type": "stream",
     "text": [
      "------------------------------------------------------------------------------------------------------------------------\n",
      "Accuracy on test data: 87.32\n",
      "Precision on test data: 87.24\n",
      "Recall on test data: 99.48\n",
      "F1_score on test data: 92.96\n"
     ]
    }
   ],
   "source": [
    "# Confusion Matrix\n",
    "confus_mat(y_test, pred)"
   ]
  },
  {
   "cell_type": "code",
   "execution_count": 75,
   "metadata": {},
   "outputs": [
    {
     "name": "stdout",
     "output_type": "stream",
     "text": [
      "Top 10 negative important features\n",
      "br\n",
      "like\n",
      "product\n",
      "taste\n",
      "would\n",
      "coffee\n",
      "br br\n",
      "one\n",
      "flavor\n",
      "buy\n",
      "-----------------------------------------\n",
      "Top 10 positive important features\n",
      "br\n",
      "great\n",
      "good\n",
      "coffee\n",
      "like\n",
      "love\n",
      "tea\n",
      "br br\n",
      "product\n",
      "one\n"
     ]
    }
   ],
   "source": [
    "#Top positive and Negative features \n",
    "features = tfidf_vect.get_feature_names()\n",
    "class_labels = nb.classes_\n",
    "top_negative = sorted(zip(nb.feature_log_prob_[0], features),reverse=True)[0:10]\n",
    "top_positive = sorted(zip(nb.feature_log_prob_[1], features),reverse=True)[0:10]\n",
    "print(\"Top 10 negative important features\")\n",
    "for coef, feat in top_negative:\n",
    "    print(feat)\n",
    "print(\"-----------------------------------------\")\n",
    "print(\"Top 10 positive important features\")\n",
    "for coef, feat in top_positive:\n",
    "    print(feat) "
   ]
  },
  {
   "cell_type": "markdown",
   "metadata": {},
   "source": [
    "# 6. Conclusion "
   ]
  },
  {
   "cell_type": "code",
   "execution_count": 92,
   "metadata": {},
   "outputs": [
    {
     "data": {
      "text/html": [
       "<div>\n",
       "<style scoped>\n",
       "    .dataframe tbody tr th:only-of-type {\n",
       "        vertical-align: middle;\n",
       "    }\n",
       "\n",
       "    .dataframe tbody tr th {\n",
       "        vertical-align: top;\n",
       "    }\n",
       "\n",
       "    .dataframe thead th {\n",
       "        text-align: right;\n",
       "    }\n",
       "</style>\n",
       "<table border=\"1\" class=\"dataframe\">\n",
       "  <thead>\n",
       "    <tr style=\"text-align: right;\">\n",
       "      <th></th>\n",
       "      <th>Vectorizer</th>\n",
       "      <th>Best alpha</th>\n",
       "      <th>ROC_AUC</th>\n",
       "      <th>Accuracy</th>\n",
       "      <th>Precision</th>\n",
       "      <th>Recall</th>\n",
       "      <th>F1_score</th>\n",
       "    </tr>\n",
       "  </thead>\n",
       "  <tbody>\n",
       "    <tr>\n",
       "      <th>0</th>\n",
       "      <td>BOW</td>\n",
       "      <td>0.0001</td>\n",
       "      <td>89.42</td>\n",
       "      <td>87.32</td>\n",
       "      <td>87.24</td>\n",
       "      <td>99.48</td>\n",
       "      <td>92.96</td>\n",
       "    </tr>\n",
       "    <tr>\n",
       "      <th>1</th>\n",
       "      <td>TFIDF</td>\n",
       "      <td>0.0001</td>\n",
       "      <td>93.54</td>\n",
       "      <td>87.54</td>\n",
       "      <td>88.43</td>\n",
       "      <td>99.39</td>\n",
       "      <td>93.59</td>\n",
       "    </tr>\n",
       "  </tbody>\n",
       "</table>\n",
       "</div>"
      ],
      "text/plain": [
       "  Vectorizer  Best alpha  ROC_AUC  Accuracy  Precision  Recall  F1_score\n",
       "0        BOW      0.0001    89.42     87.32      87.24   99.48     92.96\n",
       "1      TFIDF      0.0001    93.54     87.54      88.43   99.39     93.59"
      ]
     },
     "execution_count": 92,
     "metadata": {},
     "output_type": "execute_result"
    }
   ],
   "source": [
    "list_1 = [['BOW',0.0001, 89.42, 87.32, 87.24, 99.48, 92.96],\n",
    "         ['TFIDF',0.0001, 93.54, 87.54, 88.43, 99.39, 93.59]]\n",
    "columns= ['Vectorizer', 'Best alpha', 'ROC_AUC', 'Accuracy', 'Precision', 'Recall', 'F1_score']\n",
    "pd.DataFrame(list_1,columns = columns)"
   ]
  },
  {
   "cell_type": "code",
   "execution_count": null,
   "metadata": {},
   "outputs": [],
   "source": []
  }
 ],
 "metadata": {
  "kernelspec": {
   "display_name": "Python 3",
   "language": "python",
   "name": "python3"
  },
  "language_info": {
   "codemirror_mode": {
    "name": "ipython",
    "version": 3
   },
   "file_extension": ".py",
   "mimetype": "text/x-python",
   "name": "python",
   "nbconvert_exporter": "python",
   "pygments_lexer": "ipython3",
   "version": "3.5.3"
  }
 },
 "nbformat": 4,
 "nbformat_minor": 2
}
